{
  "nbformat": 4,
  "nbformat_minor": 0,
  "metadata": {
    "colab": {
      "provenance": [],
      "authorship_tag": "ABX9TyOoPps5NrzozDP3Szkd7+2m",
      "include_colab_link": true
    },
    "kernelspec": {
      "name": "python3",
      "display_name": "Python 3"
    },
    "language_info": {
      "name": "python"
    }
  },
  "cells": [
    {
      "cell_type": "markdown",
      "metadata": {
        "id": "view-in-github",
        "colab_type": "text"
      },
      "source": [
        "<a href=\"https://colab.research.google.com/github/Ngadella/Image-sim-comp/blob/main/Model2.0.ipynb\" target=\"_parent\"><img src=\"https://colab.research.google.com/assets/colab-badge.svg\" alt=\"Open In Colab\"/></a>"
      ]
    },
    {
      "cell_type": "code",
      "execution_count": null,
      "metadata": {
        "id": "4jJSSxBocnao"
      },
      "outputs": [],
      "source": [
        "pip install keras==3.3.3"
      ]
    },
    {
      "cell_type": "code",
      "source": [
        "pip install tensorflow==2.16.1"
      ],
      "metadata": {
        "id": "NLxHTsOtcqEH"
      },
      "execution_count": null,
      "outputs": []
    },
    {
      "cell_type": "code",
      "source": [
        "pip show tensorflow keras"
      ],
      "metadata": {
        "id": "hHbdXeQGcsXn"
      },
      "execution_count": null,
      "outputs": []
    },
    {
      "cell_type": "code",
      "source": [
        "import tensorflow as tf\n",
        "from tensorflow.keras.applications import MobileNetV2\n",
        "from tensorflow.keras.layers import Dense, GlobalAveragePooling2D\n",
        "from tensorflow.keras.models import Model\n",
        "\n",
        "base_model = MobileNetV2(weights='imagenet', include_top=False, input_shape=(64, 64, 3))\n",
        "x = base_model.output\n",
        "x = GlobalAveragePooling2D()(x)\n",
        "embeddings = Dense(128, activation='relu')(x)\n",
        "model = Model(inputs=base_model.input, outputs=embeddings)\n",
        "\n",
        "model.compile(optimizer='adam', loss='categorical_crossentropy')"
      ],
      "metadata": {
        "id": "ivGVRiRlcuSY"
      },
      "execution_count": null,
      "outputs": []
    },
    {
      "cell_type": "code",
      "source": [
        "import cv2\n",
        "img1_raw = cv2.imread('/content/0.jpg')\n",
        "img2_raw = cv2.imread('/content/2.jpg')\n",
        "\n",
        "print(img1_raw.shape)\n",
        "print(img2_raw.shape)\n",
        "\n",
        "img1 = cv2.resize(img1_raw, (64, 64))\n",
        "img2 = cv2.resize(img2_raw, (64, 64))\n",
        "\n",
        "print(img1.shape)\n",
        "print(img2.shape)\n",
        "\n",
        "img1 = img1.reshape((1, 64, 64, 3))\n",
        "img2 = img2.reshape((1, 64, 64, 3))\n",
        "\n",
        "emb1 = model.predict(img1)\n",
        "emb2 = model.predict(img2)"
      ],
      "metadata": {
        "id": "7rBZePZ9cwO3"
      },
      "execution_count": null,
      "outputs": []
    },
    {
      "cell_type": "code",
      "source": [
        "print(emb1.shape)\n",
        "print(emb2.shape)"
      ],
      "metadata": {
        "id": "xBNpGuD1cx8f"
      },
      "execution_count": null,
      "outputs": []
    },
    {
      "cell_type": "code",
      "source": [
        "\n",
        "import numpy as np\n",
        "from scipy import spatial\n",
        "\n",
        "cosine_similarity = 1 - spatial.distance.cosine(emb1[0], emb2[0])\n",
        "print(cosine_similarity)\n"
      ],
      "metadata": {
        "id": "1Vw3doAuc0mA"
      },
      "execution_count": null,
      "outputs": []
    },
    {
      "cell_type": "code",
      "source": [
        "converter = tf.lite.TFLiteConverter.from_keras_model(model)\n",
        "tflite_model = converter.convert()\n",
        "\n",
        "with open('/content/model.tflite', 'wb') as f:\n",
        "    f.write(tflite_model)"
      ],
      "metadata": {
        "id": "WJDqOlK6c2gh"
      },
      "execution_count": null,
      "outputs": []
    },
    {
      "cell_type": "code",
      "source": [
        "!xxd -i /content/model.tflite > model.h"
      ],
      "metadata": {
        "id": "0eRxSBqRc4an"
      },
      "execution_count": null,
      "outputs": []
    }
  ]
}