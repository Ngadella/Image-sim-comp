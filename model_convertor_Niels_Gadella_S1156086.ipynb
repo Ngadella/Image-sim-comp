{
  "nbformat": 4,
  "nbformat_minor": 0,
  "metadata": {
    "colab": {
      "provenance": []
    },
    "kernelspec": {
      "name": "python3",
      "display_name": "Python 3"
    },
    "language_info": {
      "name": "python"
    }
  },
  "cells": [
    {
      "cell_type": "markdown",
      "source": [
        "Niels Gadella S1156086\n",
        "\n",
        "Importeer hier het model dat gesaved word in het siamese_network jupyter file\n",
        "en de afbeelding die je wilt uploaden"
      ],
      "metadata": {
        "id": "26DPIpkKYUxF"
      }
    },
    {
      "cell_type": "code",
      "source": [
        "import tensorflow as tf\n",
        "from tensorflow.keras import layers, models"
      ],
      "metadata": {
        "id": "6VF9b-BzvDk6"
      },
      "execution_count": null,
      "outputs": []
    },
    {
      "cell_type": "code",
      "execution_count": null,
      "metadata": {
        "id": "nC4O6szFEm7L"
      },
      "outputs": [],
      "source": [
        "model = models.Sequential()\n",
        "\n",
        "model.add(layers.Conv2D(32, (3, 3), activation='relu', input_shape=(64, 64, 3)))\n",
        "model.add(layers.MaxPooling2D((2, 2)))\n",
        "\n",
        "model.add(layers.Conv2D(8, (3, 3), activation='relu'))\n",
        "model.add(layers.MaxPooling2D((2, 2)))\n",
        "\n",
        "model.add(layers.Conv2D(4, (3, 3), activation='relu'))\n",
        "model.add(layers.MaxPooling2D((2, 2)))\n",
        "\n",
        "model.add(layers.Flatten())\n",
        "\n",
        "model.add(layers.Dense(64, activation='relu'))"
      ]
    },
    {
      "cell_type": "code",
      "source": [
        "model = None"
      ],
      "metadata": {
        "id": "ZGJ8StpGu9i1"
      },
      "execution_count": null,
      "outputs": []
    },
    {
      "cell_type": "code",
      "source": [
        "model = tf.keras.models.load_model('model.keras')"
      ],
      "metadata": {
        "id": "3okIcEEBuo1W"
      },
      "execution_count": null,
      "outputs": []
    },
    {
      "cell_type": "code",
      "source": [
        "model.compile(optimizer='adam',\n",
        "              loss='categorical_crossentropy')\n",
        "model.summary()"
      ],
      "metadata": {
        "colab": {
          "base_uri": "https://localhost:8080/"
        },
        "id": "GIWaq140unrD",
        "outputId": "55313253-61f2-4fbb-e70c-2d068d78dfb4",
        "collapsed": true
      },
      "execution_count": null,
      "outputs": [
        {
          "output_type": "stream",
          "name": "stdout",
          "text": [
            "Model: \"sequential\"\n",
            "_________________________________________________________________\n",
            " Layer (type)                Output Shape              Param #   \n",
            "=================================================================\n",
            " conv2d (Conv2D)             (None, 62, 62, 32)        896       \n",
            "                                                                 \n",
            " max_pooling2d (MaxPooling2  (None, 31, 31, 32)        0         \n",
            " D)                                                              \n",
            "                                                                 \n",
            " conv2d_1 (Conv2D)           (None, 29, 29, 8)         2312      \n",
            "                                                                 \n",
            " max_pooling2d_1 (MaxPoolin  (None, 14, 14, 8)         0         \n",
            " g2D)                                                            \n",
            "                                                                 \n",
            " conv2d_2 (Conv2D)           (None, 12, 12, 4)         292       \n",
            "                                                                 \n",
            " max_pooling2d_2 (MaxPoolin  (None, 6, 6, 4)           0         \n",
            " g2D)                                                            \n",
            "                                                                 \n",
            " flatten (Flatten)           (None, 144)               0         \n",
            "                                                                 \n",
            " dense (Dense)               (None, 64)                9280      \n",
            "                                                                 \n",
            "=================================================================\n",
            "Total params: 12780 (49.92 KB)\n",
            "Trainable params: 12780 (49.92 KB)\n",
            "Non-trainable params: 0 (0.00 Byte)\n",
            "_________________________________________________________________\n"
          ]
        }
      ]
    },
    {
      "cell_type": "code",
      "source": [
        "import cv2\n",
        "\n",
        "afb1 = cv2.imread('afb1.jpg')\n",
        "afb2 = cv2.imread('afb2.jpg')\n",
        "\n",
        "print(afb1.shape)\n",
        "print(afb2.shape)\n",
        "\n",
        "afb1_scaled = cv2.resize(afb1, (64, 64))\n",
        "afb2_scaled = cv2.resize(afb2, (64, 64))\n",
        "\n",
        "print(afb1_scaled.shape)\n",
        "print(afb2_scaled.shape)\n",
        "\n",
        "afb1_scaled = afb1_scaled/255\n",
        "afb2_scaled = afb2_scaled/255\n",
        "afb1_scaled = afb1_scaled.reshape((1, 64, 64, 3))\n",
        "afb2_scaled = afb2_scaled.reshape((1, 64, 64, 3))\n",
        "\n",
        "emb1 = model.predict(afb1_scaled)\n",
        "emb2 = model.predict(afb2_scaled)"
      ],
      "metadata": {
        "colab": {
          "base_uri": "https://localhost:8080/"
        },
        "id": "DV-nVFJOKH_Y",
        "outputId": "d4c7eaff-ee3b-462d-c818-c770abd6cbca",
        "collapsed": true
      },
      "execution_count": null,
      "outputs": [
        {
          "output_type": "stream",
          "name": "stdout",
          "text": [
            "(441, 413, 3)\n",
            "(518, 621, 3)\n",
            "(64, 64, 3)\n",
            "(64, 64, 3)\n",
            "1/1 [==============================] - 0s 118ms/step\n",
            "1/1 [==============================] - 0s 34ms/step\n"
          ]
        }
      ]
    },
    {
      "cell_type": "code",
      "source": [
        "import numpy as np\n",
        "from scipy import spatial\n",
        "\n",
        "cosine_similarity = 1 - spatial.distance.cosine(emb1[0], emb2[0])\n",
        "print(cosine_similarity)"
      ],
      "metadata": {
        "colab": {
          "base_uri": "https://localhost:8080/"
        },
        "id": "_BDYSih2K1vc",
        "outputId": "6551f080-56fa-4363-b6cd-b7fde82ba28a",
        "collapsed": true
      },
      "execution_count": null,
      "outputs": [
        {
          "output_type": "stream",
          "name": "stdout",
          "text": [
            "0.8945448398590088\n"
          ]
        }
      ]
    },
    {
      "cell_type": "code",
      "source": [
        "from PIL import Image\n",
        "import numpy as np\n",
        "\n",
        "def convert_image_to_c_array(image_path, variable_name):\n",
        "    # Load and resize\n",
        "    img = Image.open(image_path)\n",
        "    img = img.resize((64, 64))\n",
        "\n",
        "    # Convert image to numpy array\n",
        "    img_array = np.array(img, dtype=np.uint8)\n",
        "    img_array = img_array.astype(np.float32) / 255.0\n",
        "    # Flatten the array and convert to list\n",
        "    img_list = img_array.flatten().tolist()\n",
        "\n",
        "    # Create C array\n",
        "    c_array = f\"const ufloat32_t {variable_name}[] = {{\" + \",\".join(map(str, img_list)) + \"};\"\n",
        "\n",
        "    return c_array\n",
        "\n",
        "# Convert images\n",
        "image1_c_array = convert_image_to_c_array(\"afb1.jpg\", \"image1_data\")\n",
        "image2_c_array = convert_image_to_c_array(\"afb2.jpg\", \"image2_data\")\n",
        "\n",
        "# Write to header files\n",
        "with open(\"image1.h\", \"w\") as f:\n",
        "    f.write(image1_c_array)\n",
        "\n",
        "with open(\"image2.h\", \"w\") as f:\n",
        "    f.write(image2_c_array)"
      ],
      "metadata": {
        "id": "tYN61a5U8uRf"
      },
      "execution_count": null,
      "outputs": []
    },
    {
      "cell_type": "code",
      "source": [
        "import numpy as np\n",
        "# Create a representative dataset function\n",
        "def representative_dataset():\n",
        "    for _ in range(100):\n",
        "        # Get sample input data as a numpy array in a method of your choosing\n",
        "        data = np.random.rand(1, 64, 64, 3)\n",
        "        yield [data.astype(np.float32)]\n",
        "\n",
        "# Convert the model to TFLite format with full integer quantization\n",
        "converter = tf.lite.TFLiteConverter.from_keras_model(model)\n",
        "converter.optimizations = [tf.lite.Optimize.DEFAULT]\n",
        "converter.representative_dataset = representative_dataset\n",
        "converter.target_spec.supported_ops = [tf.lite.OpsSet.TFLITE_BUILTINS_INT8]\n",
        "converter.inference_input_type = tf.uint8  # or tf.int8\n",
        "converter.inference_output_type = tf.uint8  # or tf.int8\n",
        "tflite_quant_model = converter.convert()\n",
        "\n",
        "with open('/content/model.tflite', 'wb') as f:\n",
        "    f.write(tflite_quant_model)"
      ],
      "metadata": {
        "id": "nThe4HkILcDA",
        "colab": {
          "base_uri": "https://localhost:8080/"
        },
        "outputId": "65f8d26a-3718-4295-d2fc-a7975762f998",
        "collapsed": true
      },
      "execution_count": null,
      "outputs": [
        {
          "output_type": "stream",
          "name": "stderr",
          "text": [
            "/usr/local/lib/python3.10/dist-packages/tensorflow/lite/python/convert.py:953: UserWarning: Statistics for quantized inputs were expected, but not specified; continuing anyway.\n",
            "  warnings.warn(\n"
          ]
        }
      ]
    },
    {
      "cell_type": "markdown",
      "source": [
        "Model omzetten naar een header file die gebruikt kan worden door de arduino ide"
      ],
      "metadata": {
        "id": "YAQ5B_ZTaMBQ"
      }
    },
    {
      "cell_type": "code",
      "source": [
        "!xxd -i /content/model.tflite > model.h"
      ],
      "metadata": {
        "id": "d4V_uHP1L9ks"
      },
      "execution_count": null,
      "outputs": []
    }
  ]
}