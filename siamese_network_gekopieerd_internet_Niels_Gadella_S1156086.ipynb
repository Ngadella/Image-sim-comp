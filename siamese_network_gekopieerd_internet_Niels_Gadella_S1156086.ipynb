{
  "cells": [
    {
      "cell_type": "markdown",
      "metadata": {
        "id": "UgzYLSCv9jeD"
      },
      "source": [
        "# Image similarity estimation using a Siamese Network with a triplet loss\n",
        "\n",
        "Niels Gadella S1156086\n",
        "\n",
        "Dit is gebaseerd/gekopieerd vanuit het onderzoek https://keras.io/examples/vision/siamese_network/"
      ]
    },
    {
      "cell_type": "markdown",
      "metadata": {
        "id": "PPyvlDI-9jeO"
      },
      "source": [
        "## Introduction - gekopieerd onderzoek\n",
        "\n",
        "A [Siamese Network](https://en.wikipedia.org/wiki/Siamese_neural_network) is a type of network architecture that\n",
        "contains two or more identical subnetworks used to generate feature vectors for each input and compare them.\n",
        "\n",
        "Siamese Networks can be applied to different use cases, like detecting duplicates, finding anomalies, and face recognition.\n",
        "\n",
        "This example uses a Siamese Network with three identical subnetworks. We will provide three images to the model, where\n",
        "two of them will be similar (_anchor_ and _positive_ samples), and the third will be unrelated (a _negative_ example.)\n",
        "Our goal is for the model to learn to estimate the similarity between images.\n",
        "\n",
        "For the network to learn, we use a triplet loss function. You can find an introduction to triplet loss in the\n",
        "[FaceNet paper](https://arxiv.org/abs/1503.03832) by Schroff et al,. 2015. In this example, we define the triplet\n",
        "loss function as follows:\n",
        "\n",
        "`L(A, P, N) = max(‖f(A) - f(P)‖² - ‖f(A) - f(N)‖² + margin, 0)`\n",
        "\n",
        "This example uses the [Totally Looks Like dataset](https://sites.google.com/view/totally-looks-like-dataset)\n",
        "by [Rosenfeld et al., 2018](https://arxiv.org/abs/1803.01485v3)."
      ]
    },
    {
      "cell_type": "markdown",
      "metadata": {
        "id": "ZV0Yrjyd9jeQ"
      },
      "source": [
        "## Setup"
      ]
    },
    {
      "cell_type": "code",
      "execution_count": null,
      "metadata": {
        "id": "IZ4iEJOs9jeU"
      },
      "outputs": [],
      "source": [
        "import matplotlib.pyplot as plt\n",
        "import numpy as np\n",
        "import os\n",
        "import random\n",
        "import tensorflow as tf\n",
        "from pathlib import Path\n",
        "from keras import applications\n",
        "from keras import layers\n",
        "from keras import losses\n",
        "from keras import optimizers\n",
        "from keras import metrics\n",
        "from keras import Model\n",
        "from keras.applications import resnet\n",
        "\n",
        "\n",
        "target_shape = (64, 64)\n"
      ]
    },
    {
      "cell_type": "markdown",
      "metadata": {
        "id": "yGGcYf1m9jeX"
      },
      "source": [
        "## Load the dataset - gekopieerd onderzoek\n",
        "\n",
        "We are going to load the *Totally Looks Like* dataset and unzip it inside the `~/.keras` directory\n",
        "in the local environment.\n",
        "\n",
        "The dataset consists of two separate files:\n",
        "\n",
        "* `left.zip` contains the images that we will use as the anchor.\n",
        "* `right.zip` contains the images that we will use as the positive sample (an image that looks like the anchor)."
      ]
    },
    {
      "cell_type": "code",
      "execution_count": null,
      "metadata": {
        "id": "OzbLy-2-9jeX"
      },
      "outputs": [],
      "source": [
        "cache_dir = Path(Path.home()) / \".keras\"\n",
        "anchor_images_path = cache_dir / \"left\"\n",
        "positive_images_path = cache_dir / \"right\""
      ]
    },
    {
      "cell_type": "code",
      "execution_count": null,
      "metadata": {
        "id": "iydsEIHC9jeY"
      },
      "outputs": [],
      "source": [
        "!gdown --id 1jvkbTr_giSP3Ru8OwGNCg6B4PvVbcO34\n",
        "!gdown --id 1EzBZUb_mh_Dp_FKD0P4XiYYSd0QBH5zW\n",
        "!unzip -oq left.zip -d $cache_dir\n",
        "!unzip -oq right.zip -d $cache_dir"
      ]
    },
    {
      "cell_type": "markdown",
      "metadata": {
        "id": "ZOpYFxIK9jeZ"
      },
      "source": [
        "## Preparing the data - gekopieerd onderzoek\n",
        "\n",
        "We are going to use a `tf.data` pipeline to load the data and generate the triplets that we\n",
        "need to train the Siamese network.\n",
        "\n",
        "We'll set up the pipeline using a zipped list with anchor, positive, and negative filenames as\n",
        "the source. The pipeline will load and preprocess the corresponding images."
      ]
    },
    {
      "cell_type": "code",
      "execution_count": null,
      "metadata": {
        "id": "PmqQeraq9jeZ"
      },
      "outputs": [],
      "source": [
        "\n",
        "def preprocess_image(filename):\n",
        "    \"\"\"\n",
        "    Load the specified file as a JPEG image, preprocess it and\n",
        "    resize it to the target shape.\n",
        "    \"\"\"\n",
        "\n",
        "    image_string = tf.io.read_file(filename)\n",
        "    image = tf.image.decode_jpeg(image_string, channels=3)\n",
        "    image = tf.image.convert_image_dtype(image, tf.float32)\n",
        "    image = tf.image.resize(image, target_shape)\n",
        "    return image\n",
        "\n",
        "\n",
        "def preprocess_triplets(anchor, positive, negative):\n",
        "    \"\"\"\n",
        "    Given the filenames corresponding to the three images, load and\n",
        "    preprocess them.\n",
        "    \"\"\"\n",
        "\n",
        "    return (\n",
        "        preprocess_image(anchor),\n",
        "        preprocess_image(positive),\n",
        "        preprocess_image(negative),\n",
        "    )\n"
      ]
    },
    {
      "cell_type": "markdown",
      "metadata": {
        "id": "3va4v5y69jea"
      },
      "source": [
        "Let's setup our data pipeline using a zipped list with an anchor, positive,\n",
        "and negative image filename as the source. The output of the pipeline\n",
        "contains the same triplet with every image loaded and preprocessed."
      ]
    },
    {
      "cell_type": "code",
      "execution_count": null,
      "metadata": {
        "id": "jz0Zzbgt9jeb"
      },
      "outputs": [],
      "source": [
        "# We need to make sure both the anchor and positive images are loaded in\n",
        "# sorted order so we can match them together.\n",
        "anchor_images = sorted(\n",
        "    [str(anchor_images_path / f) for f in os.listdir(anchor_images_path)]\n",
        ")\n",
        "\n",
        "positive_images = sorted(\n",
        "    [str(positive_images_path / f) for f in os.listdir(positive_images_path)]\n",
        ")\n",
        "\n",
        "image_count = len(anchor_images)\n",
        "\n",
        "anchor_dataset = tf.data.Dataset.from_tensor_slices(anchor_images)\n",
        "positive_dataset = tf.data.Dataset.from_tensor_slices(positive_images)\n",
        "\n",
        "# To generate the list of negative images, let's randomize the list of\n",
        "# available images and concatenate them together.\n",
        "rng = np.random.RandomState(seed=42)\n",
        "rng.shuffle(anchor_images)\n",
        "rng.shuffle(positive_images)\n",
        "\n",
        "negative_images = anchor_images + positive_images\n",
        "np.random.RandomState(seed=32).shuffle(negative_images)\n",
        "\n",
        "negative_dataset = tf.data.Dataset.from_tensor_slices(negative_images)\n",
        "negative_dataset = negative_dataset.shuffle(buffer_size=4096)\n",
        "\n",
        "dataset = tf.data.Dataset.zip((anchor_dataset, positive_dataset, negative_dataset))\n",
        "dataset = dataset.shuffle(buffer_size=1024)\n",
        "dataset = dataset.map(preprocess_triplets)\n",
        "\n",
        "# Let's now split our dataset in train and validation.\n",
        "train_dataset = dataset.take(round(image_count * 0.8))\n",
        "val_dataset = dataset.skip(round(image_count * 0.8))\n",
        "\n",
        "train_dataset = train_dataset.batch(32, drop_remainder=False)\n",
        "train_dataset = train_dataset.prefetch(tf.data.AUTOTUNE)\n",
        "\n",
        "val_dataset = val_dataset.batch(32, drop_remainder=False)\n",
        "val_dataset = val_dataset.prefetch(tf.data.AUTOTUNE)\n"
      ]
    },
    {
      "cell_type": "markdown",
      "metadata": {
        "id": "jLSiieC19jeb"
      },
      "source": [
        "Let's take a look at a few examples of triplets. Notice how the first two images\n",
        "look alike while the third one is always different."
      ]
    },
    {
      "cell_type": "code",
      "execution_count": null,
      "metadata": {
        "id": "CxHxfnCU9jec"
      },
      "outputs": [],
      "source": [
        "\n",
        "def visualize(anchor, positive, negative):\n",
        "    \"\"\"Visualize a few triplets from the supplied batches.\"\"\"\n",
        "\n",
        "    def show(ax, image):\n",
        "        ax.imshow(image)\n",
        "        ax.get_xaxis().set_visible(False)\n",
        "        ax.get_yaxis().set_visible(False)\n",
        "\n",
        "    fig = plt.figure(figsize=(9, 9))\n",
        "\n",
        "    axs = fig.subplots(3, 3)\n",
        "    for i in range(3):\n",
        "        show(axs[i, 0], anchor[i])\n",
        "        show(axs[i, 1], positive[i])\n",
        "        show(axs[i, 2], negative[i])\n",
        "\n",
        "\n",
        "visualize(*list(train_dataset.take(1).as_numpy_iterator())[0])"
      ]
    },
    {
      "cell_type": "markdown",
      "metadata": {
        "id": "XcBbtJm49jec"
      },
      "source": [
        "Dit is orginele geschreven code, hier wijken we af van het onderzoek om een kleiner model te maken wat geschikt gaat zijn om te converteren naar een Lite model"
      ]
    },
    {
      "cell_type": "code",
      "execution_count": null,
      "metadata": {
        "id": "JbsQYNgR9jec"
      },
      "outputs": [],
      "source": [
        "import tensorflow as tf\n",
        "from tensorflow.keras import layers, models\n",
        "\n",
        "model = models.Sequential()\n",
        "\n",
        "model.add(layers.Conv2D(32, (3, 3), activation='relu', input_shape=(64, 64, 3)))\n",
        "model.add(layers.MaxPooling2D((2, 2)))\n",
        "\n",
        "model.add(layers.Conv2D(8, (3, 3), activation='relu'))\n",
        "model.add(layers.MaxPooling2D((2, 2)))\n",
        "\n",
        "model.add(layers.Conv2D(4, (3, 3), activation='relu'))\n",
        "model.add(layers.MaxPooling2D((2, 2)))\n",
        "\n",
        "model.add(layers.Flatten())\n",
        "\n",
        "model.add(layers.Dense(64, activation='relu'))\n",
        "\n",
        "embedding = model\n"
      ]
    },
    {
      "cell_type": "markdown",
      "metadata": {
        "id": "rzDm3K-k9jed"
      },
      "source": [
        "## Setting up the Siamese Network model - gekopieerd onderzoek\n",
        "\n",
        "The Siamese network will receive each of the triplet images as an input,\n",
        "generate the embeddings, and output the distance between the anchor and the\n",
        "positive embedding, as well as the distance between the anchor and the negative\n",
        "embedding.\n",
        "\n",
        "To compute the distance, we can use a custom layer `DistanceLayer` that\n",
        "returns both values as a tuple."
      ]
    },
    {
      "cell_type": "code",
      "execution_count": null,
      "metadata": {
        "id": "SsFYT2vX9jed"
      },
      "outputs": [],
      "source": [
        "\n",
        "class DistanceLayer(layers.Layer):\n",
        "    \"\"\"\n",
        "    This layer is responsible for computing the distance between the anchor\n",
        "    embedding and the positive embedding, and the anchor embedding and the\n",
        "    negative embedding.\n",
        "    \"\"\"\n",
        "\n",
        "    def __init__(self, **kwargs):\n",
        "        super().__init__(**kwargs)\n",
        "\n",
        "    def call(self, anchor, positive, negative):\n",
        "        ap_distance = tf.keras.backend.sum(tf.square(anchor - positive), -1)\n",
        "        an_distance = tf.keras.backend.sum(tf.square(anchor - negative), -1)\n",
        "        return (ap_distance, an_distance)\n",
        "\n",
        "\n",
        "anchor_input = layers.Input(name=\"anchor\", shape=target_shape + (3,))\n",
        "positive_input = layers.Input(name=\"positive\", shape=target_shape + (3,))\n",
        "negative_input = layers.Input(name=\"negative\", shape=target_shape + (3,))\n",
        "\n",
        "distances = DistanceLayer()(\n",
        "    embedding(resnet.preprocess_input(anchor_input)),\n",
        "    embedding(resnet.preprocess_input(positive_input)),\n",
        "    embedding(resnet.preprocess_input(negative_input)),\n",
        ")\n",
        "\n",
        "siamese_network = Model(\n",
        "    inputs=[anchor_input, positive_input, negative_input], outputs=distances\n",
        ")"
      ]
    },
    {
      "cell_type": "markdown",
      "metadata": {
        "id": "xeb_6Wo_9jed"
      },
      "source": [
        "## Putting everything together - gekopieerd onderzoek\n",
        "\n",
        "We now need to implement a model with custom training loop so we can compute\n",
        "the triplet loss using the three embeddings produced by the Siamese network.\n",
        "\n",
        "Let's create a `Mean` metric instance to track the loss of the training process."
      ]
    },
    {
      "cell_type": "code",
      "execution_count": null,
      "metadata": {
        "id": "SVQbKJ5T9jee"
      },
      "outputs": [],
      "source": [
        "\n",
        "class SiameseModel(Model):\n",
        "    \"\"\"The Siamese Network model with a custom training and testing loops.\n",
        "\n",
        "    Computes the triplet loss using the three embeddings produced by the\n",
        "    Siamese Network.\n",
        "\n",
        "    The triplet loss is defined as:\n",
        "       L(A, P, N) = max(‖f(A) - f(P)‖² - ‖f(A) - f(N)‖² + margin, 0)\n",
        "    \"\"\"\n",
        "\n",
        "    def __init__(self, siamese_network, margin=0.5):\n",
        "        super().__init__()\n",
        "        self.siamese_network = siamese_network\n",
        "        self.margin = margin\n",
        "        self.loss_tracker = metrics.Mean(name=\"loss\")\n",
        "\n",
        "    def call(self, inputs):\n",
        "        return self.siamese_network(inputs)\n",
        "\n",
        "    def train_step(self, data):\n",
        "        # GradientTape is a context manager that records every operation that\n",
        "        # you do inside. We are using it here to compute the loss so we can get\n",
        "        # the gradients and apply them using the optimizer specified in\n",
        "        # `compile()`.\n",
        "        with tf.GradientTape() as tape:\n",
        "            loss = self._compute_loss(data)\n",
        "\n",
        "        # Storing the gradients of the loss function with respect to the\n",
        "        # weights/parameters.\n",
        "        gradients = tape.gradient(loss, self.siamese_network.trainable_weights)\n",
        "\n",
        "        # Applying the gradients on the model using the specified optimizer\n",
        "        self.optimizer.apply_gradients(\n",
        "            zip(gradients, self.siamese_network.trainable_weights)\n",
        "        )\n",
        "\n",
        "        # Let's update and return the training loss metric.\n",
        "        self.loss_tracker.update_state(loss)\n",
        "        return {\"loss\": self.loss_tracker.result()}\n",
        "\n",
        "    def test_step(self, data):\n",
        "        loss = self._compute_loss(data)\n",
        "\n",
        "        # Let's update and return the loss metric.\n",
        "        self.loss_tracker.update_state(loss)\n",
        "        return {\"loss\": self.loss_tracker.result()}\n",
        "\n",
        "    def _compute_loss(self, data):\n",
        "        # The output of the network is a tuple containing the distances\n",
        "        # between the anchor and the positive example, and the anchor and\n",
        "        # the negative example.\n",
        "        ap_distance, an_distance = self.siamese_network(data)\n",
        "\n",
        "        # Computing the Triplet Loss by subtracting both distances and\n",
        "        # making sure we don't get a negative value.\n",
        "        loss = ap_distance - an_distance\n",
        "        loss = tf.maximum(loss + self.margin, 0.0)\n",
        "        return loss\n",
        "\n",
        "    @property\n",
        "    def metrics(self):\n",
        "        # We need to list our metrics here so the `reset_states()` can be\n",
        "        # called automatically.\n",
        "        return [self.loss_tracker]\n"
      ]
    },
    {
      "cell_type": "markdown",
      "metadata": {
        "id": "uEYfrb_v9jeg"
      },
      "source": [
        "## Training - gekopieerd onderzoek\n",
        "\n",
        "We are now ready to train our model."
      ]
    },
    {
      "cell_type": "code",
      "execution_count": null,
      "metadata": {
        "id": "owkgcpWS9jeh"
      },
      "outputs": [],
      "source": [
        "siamese_model = SiameseModel(siamese_network)\n",
        "siamese_model.compile(optimizer=optimizers.Adam(0.0001))\n",
        "siamese_model.fit(train_dataset, epochs=10, validation_data=val_dataset)"
      ]
    },
    {
      "cell_type": "markdown",
      "metadata": {
        "id": "o9Woe0E19jeh"
      },
      "source": [
        "## Inspecting what the network has learned - gekopieerd onderzoek\n",
        "\n",
        "At this point, we can check how the network learned to separate the embeddings\n",
        "depending on whether they belong to similar images.\n",
        "\n",
        "We can use [cosine similarity](https://en.wikipedia.org/wiki/Cosine_similarity) to measure the\n",
        "similarity between embeddings.\n",
        "\n",
        "Let's pick a sample from the dataset to check the similarity between the\n",
        "embeddings generated for each image."
      ]
    },
    {
      "cell_type": "code",
      "execution_count": null,
      "metadata": {
        "id": "TjGSAAmM9jeh"
      },
      "outputs": [],
      "source": [
        "sample = next(iter(train_dataset))\n",
        "visualize(*sample)\n",
        "\n",
        "anchor, positive, negative = sample\n",
        "anchor_embedding, positive_embedding, negative_embedding = (\n",
        "    embedding(resnet.preprocess_input(anchor)),\n",
        "    embedding(resnet.preprocess_input(positive)),\n",
        "    embedding(resnet.preprocess_input(negative)),\n",
        ")"
      ]
    },
    {
      "cell_type": "markdown",
      "metadata": {
        "id": "g2X3quNa9jeh"
      },
      "source": [
        "Finally, we can compute the cosine similarity between the anchor and positive\n",
        "images and compare it with the similarity between the anchor and the negative\n",
        "images.\n",
        "\n",
        "We should expect the similarity between the anchor and positive images to be\n",
        "larger than the similarity between the anchor and the negative images."
      ]
    },
    {
      "cell_type": "code",
      "execution_count": null,
      "metadata": {
        "id": "8pFvr9jj9jeh"
      },
      "outputs": [],
      "source": [
        "cosine_similarity = metrics.CosineSimilarity()\n",
        "\n",
        "positive_similarity = cosine_similarity(anchor_embedding, positive_embedding)\n",
        "print(\"Positive similarity:\", positive_similarity.numpy())\n",
        "\n",
        "negative_similarity = cosine_similarity(anchor_embedding, negative_embedding)\n",
        "print(\"Negative similarity\", negative_similarity.numpy())\n"
      ]
    },
    {
      "cell_type": "markdown",
      "source": [
        "het model converteren gebeurt in een andere jupyter file omdat dit in dezelfde file doen zorgt voor crashes. daarom slaan we het model hier op zodat we deze kunnen kopieren naar het volgende bestand\n"
      ],
      "metadata": {
        "id": "xm2NAjVPXNt9"
      }
    },
    {
      "cell_type": "code",
      "source": [
        "model.save('model.keras')"
      ],
      "metadata": {
        "id": "gAW-a1iKXaUh"
      },
      "execution_count": null,
      "outputs": []
    }
  ],
  "metadata": {
    "accelerator": "GPU",
    "colab": {
      "provenance": []
    },
    "kernelspec": {
      "display_name": "Python 3",
      "language": "python",
      "name": "python3"
    },
    "language_info": {
      "codemirror_mode": {
        "name": "ipython",
        "version": 3
      },
      "file_extension": ".py",
      "mimetype": "text/x-python",
      "name": "python",
      "nbconvert_exporter": "python",
      "pygments_lexer": "ipython3",
      "version": "3.7.0"
    }
  },
  "nbformat": 4,
  "nbformat_minor": 0
}